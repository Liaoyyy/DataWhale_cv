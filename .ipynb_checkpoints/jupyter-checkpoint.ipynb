{
 "cells": [
  {
   "cell_type": "code",
   "execution_count": 2,
   "id": "ba15aa3d",
   "metadata": {},
   "outputs": [],
   "source": [
    "import glob                # 获取文件路径\n",
    "import numpy as np\n",
    "import pandas as pd\n",
    "import nibabel as nib      # 处理医学图像数据\n",
    "from nibabel.viewers import OrthoSlicer3D    # 图像可视化\n",
    "from collections import Counter              # 计数统计\n",
    "import zipfile\n",
    "import os"
   ]
  },
  {
   "cell_type": "code",
   "execution_count": 3,
   "id": "66f047fa",
   "metadata": {},
   "outputs": [],
   "source": [
    "# 读取训练集文件路径\n",
    "train_path = glob.glob('E:/cvprogram/Data/脑PET图像分析和疾病预测挑战赛公开数据/Train/*/*')\n",
    "test_path = glob.glob('E:/cvprogram/Data/脑PET图像分析和疾病预测挑战赛公开数据/Test/*')\n",
    "\n",
    "# 打乱训练集和测试集的顺序\n",
    "np.random.shuffle(train_path)\n",
    "np.random.shuffle(test_path)"
   ]
  },
  {
   "cell_type": "code",
   "execution_count": 4,
   "id": "6121d1d3",
   "metadata": {},
   "outputs": [],
   "source": [
    "def extract_feature(path):\n",
    "    # 加载PET图像数据\n",
    "    img = nib.load(path)\n",
    "    # 获取第一个通道的数据\n",
    "    img = img.dataobj[:, :, :, 0]\n",
    "\n",
    "    # 随机筛选其中的10个通道提取特征\n",
    "    random_img = img[:, :, :]\n",
    "\n",
    "    # 对图片计算统计值\n",
    "    feat = [\n",
    "        (random_img != 0).sum(),  # 非零像素的数量\n",
    "        (random_img == 0).sum(),  # 零像素的数量\n",
    "        random_img.mean(),  # 平均值\n",
    "        random_img.std(),  # 标准差\n",
    "        len(np.where(random_img.mean(0))[0]),  # 在列方向上平均值不为零的数量\n",
    "        len(np.where(random_img.mean(1))[0]),  # 在行方向上平均值不为零的数量\n",
    "        random_img.mean(0).max(),  # 列方向上的最大平均值\n",
    "        random_img.mean(1).max()  # 行方向上的最大平均值\n",
    "    ]\n",
    "\n",
    "    # 根据路径判断样本类别（'NC'表示正常，'MCI'表示异常）\n",
    "    if 'NC' in path:\n",
    "        return feat + ['NC']\n",
    "    else:\n",
    "        return feat + ['MCI']"
   ]
  },
  {
   "cell_type": "code",
   "execution_count": 5,
   "id": "99167910",
   "metadata": {},
   "outputs": [],
   "source": [
    "#对训练集进行30次特征提取，每次提取后的特征以及类别（'NC'表示正常，'MCI'表示异常）被添加到train_feat列表中。\n",
    "train_data = []\n",
    "for path in train_path:\n",
    "    train_data.append(extract_feature(path))\n",
    "train_feature = np.array(train_data)[:, :-1].astype(np.float32)\n",
    "train_label = np.array(train_data)[:, -1]\n"
   ]
  },
  {
   "cell_type": "code",
   "execution_count": 15,
   "id": "26ba4f27",
   "metadata": {},
   "outputs": [],
   "source": [
    "# 对测试集进行30次特征提取\n",
    "test_data = []\n",
    "for path in test_path:\n",
    "    test_data.append(extract_feature(path))\n",
    "test_feature = np.array(test_data)[:, :-1]"
   ]
  },
  {
   "cell_type": "code",
   "execution_count": 17,
   "id": "c8714def",
   "metadata": {},
   "outputs": [
    {
     "data": {
      "text/plain": [
       "(100, 8)"
      ]
     },
     "execution_count": 17,
     "metadata": {},
     "output_type": "execute_result"
    }
   ],
   "source": [
    "np.shape(test_feature)"
   ]
  },
  {
   "cell_type": "code",
   "execution_count": 13,
   "id": "e7dffaef",
   "metadata": {},
   "outputs": [
    {
     "data": {
      "text/plain": [
       "(50, 8)"
      ]
     },
     "execution_count": 13,
     "metadata": {},
     "output_type": "execute_result"
    }
   ],
   "source": [
    "np.shape(train_feature)"
   ]
  },
  {
   "cell_type": "code",
   "execution_count": 28,
   "id": "c7ad507c",
   "metadata": {},
   "outputs": [],
   "source": [
    "import os"
   ]
  },
  {
   "cell_type": "code",
   "execution_count": 4,
   "id": "76d650aa",
   "metadata": {},
   "outputs": [],
   "source": [
    "img = nib.load('./脑PET图像分析和疾病预测挑战赛公开数据/Train/MCI/2.nii')"
   ]
  },
  {
   "cell_type": "code",
   "execution_count": 5,
   "id": "781d9d86",
   "metadata": {},
   "outputs": [],
   "source": [
    "from nibabel.viewers import OrthoSlicer3D    # 图像可视化"
   ]
  },
  {
   "cell_type": "code",
   "execution_count": 6,
   "id": "9d68db60",
   "metadata": {},
   "outputs": [
    {
     "data": {
      "text/plain": [
       "(128, 128, 63, 1)"
      ]
     },
     "execution_count": 6,
     "metadata": {},
     "output_type": "execute_result"
    }
   ],
   "source": [
    "img.shape"
   ]
  },
  {
   "cell_type": "code",
   "execution_count": 10,
   "id": "9db157f7",
   "metadata": {},
   "outputs": [],
   "source": [
    "img1 = img.dataobj"
   ]
  },
  {
   "cell_type": "code",
   "execution_count": 11,
   "id": "9724696d",
   "metadata": {},
   "outputs": [
    {
     "data": {
      "text/plain": [
       "<nibabel.arrayproxy.ArrayProxy at 0x1bff7149310>"
      ]
     },
     "execution_count": 11,
     "metadata": {},
     "output_type": "execute_result"
    }
   ],
   "source": [
    "img1"
   ]
  },
  {
   "cell_type": "code",
   "execution_count": 12,
   "id": "a805981a",
   "metadata": {},
   "outputs": [
    {
     "data": {
      "text/plain": [
       "(128, 128, 63, 1)"
      ]
     },
     "execution_count": 12,
     "metadata": {},
     "output_type": "execute_result"
    }
   ],
   "source": [
    "img1.shape"
   ]
  },
  {
   "cell_type": "code",
   "execution_count": 13,
   "id": "d2ce5277",
   "metadata": {},
   "outputs": [
    {
     "data": {
      "text/plain": [
       "<nibabel.nifti1.Nifti1Image at 0x1bff71491f0>"
      ]
     },
     "execution_count": 13,
     "metadata": {},
     "output_type": "execute_result"
    }
   ],
   "source": [
    "img"
   ]
  },
  {
   "cell_type": "code",
   "execution_count": 14,
   "id": "d748bc08",
   "metadata": {},
   "outputs": [
    {
     "ename": "SyntaxError",
     "evalue": "cannot assign to literal (3293535663.py, line 1)",
     "output_type": "error",
     "traceback": [
      "\u001b[1;36m  File \u001b[1;32m\"C:\\Users\\liaoyang\\AppData\\Local\\Temp\\ipykernel_17836\\3293535663.py\"\u001b[1;36m, line \u001b[1;32m1\u001b[0m\n\u001b[1;33m    a=31, b=10\u001b[0m\n\u001b[1;37m      ^\u001b[0m\n\u001b[1;31mSyntaxError\u001b[0m\u001b[1;31m:\u001b[0m cannot assign to literal\n"
     ]
    }
   ],
   "source": [
    "a=31, b=10"
   ]
  },
  {
   "cell_type": "code",
   "execution_count": 15,
   "id": "d300a3ae",
   "metadata": {},
   "outputs": [],
   "source": [
    "a,b = 31 ,10"
   ]
  },
  {
   "cell_type": "code",
   "execution_count": 16,
   "id": "a4155586",
   "metadata": {},
   "outputs": [
    {
     "data": {
      "text/plain": [
       "3.1"
      ]
     },
     "execution_count": 16,
     "metadata": {},
     "output_type": "execute_result"
    }
   ],
   "source": [
    "a/b"
   ]
  },
  {
   "cell_type": "code",
   "execution_count": 17,
   "id": "e37cb2db",
   "metadata": {},
   "outputs": [
    {
     "data": {
      "text/plain": [
       "3"
      ]
     },
     "execution_count": 17,
     "metadata": {},
     "output_type": "execute_result"
    }
   ],
   "source": [
    "a//b"
   ]
  },
  {
   "cell_type": "code",
   "execution_count": 18,
   "id": "9756dc03",
   "metadata": {},
   "outputs": [
    {
     "data": {
      "text/plain": [
       "10"
      ]
     },
     "execution_count": 18,
     "metadata": {},
     "output_type": "execute_result"
    }
   ],
   "source": [
    "b%a"
   ]
  },
  {
   "cell_type": "code",
   "execution_count": 19,
   "id": "1e6c1629",
   "metadata": {},
   "outputs": [],
   "source": [
    "a,b=2,3"
   ]
  },
  {
   "cell_type": "code",
   "execution_count": 20,
   "id": "1b41f67f",
   "metadata": {},
   "outputs": [
    {
     "ename": "NameError",
     "evalue": "name 'B' is not defined",
     "output_type": "error",
     "traceback": [
      "\u001b[1;31m---------------------------------------------------------------------------\u001b[0m",
      "\u001b[1;31mNameError\u001b[0m                                 Traceback (most recent call last)",
      "\u001b[1;32m~\\AppData\\Local\\Temp\\ipykernel_17836\\680990273.py\u001b[0m in \u001b[0;36m<module>\u001b[1;34m\u001b[0m\n\u001b[1;32m----> 1\u001b[1;33m \u001b[0ma\u001b[0m\u001b[1;33m**\u001b[0m\u001b[0mB\u001b[0m\u001b[1;33m\u001b[0m\u001b[1;33m\u001b[0m\u001b[0m\n\u001b[0m",
      "\u001b[1;31mNameError\u001b[0m: name 'B' is not defined"
     ]
    }
   ],
   "source": [
    "a**B"
   ]
  },
  {
   "cell_type": "code",
   "execution_count": 21,
   "id": "02753adc",
   "metadata": {},
   "outputs": [
    {
     "data": {
      "text/plain": [
       "8"
      ]
     },
     "execution_count": 21,
     "metadata": {},
     "output_type": "execute_result"
    }
   ],
   "source": [
    "a**b"
   ]
  },
  {
   "cell_type": "code",
   "execution_count": null,
   "id": "357ba9dc",
   "metadata": {},
   "outputs": [],
   "source": []
  }
 ],
 "metadata": {
  "kernelspec": {
   "display_name": "Python 3 (ipykernel)",
   "language": "python",
   "name": "python3"
  },
  "language_info": {
   "codemirror_mode": {
    "name": "ipython",
    "version": 3
   },
   "file_extension": ".py",
   "mimetype": "text/x-python",
   "name": "python",
   "nbconvert_exporter": "python",
   "pygments_lexer": "ipython3",
   "version": "3.9.13"
  }
 },
 "nbformat": 4,
 "nbformat_minor": 5
}
